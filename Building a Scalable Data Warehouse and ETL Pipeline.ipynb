{
 "cells": [
  {
   "cell_type": "markdown",
   "id": "15957d52",
   "metadata": {},
   "source": [
    "# Building a Scalable Data Warehouse and ETL Pipeline"
   ]
  },
  {
   "cell_type": "markdown",
   "id": "5fc3a7b1",
   "metadata": {},
   "source": [
    "# Extracting CSV Data"
   ]
  },
  {
   "cell_type": "code",
   "execution_count": 4,
   "id": "27e16ff3",
   "metadata": {
    "scrolled": false
   },
   "outputs": [
    {
     "name": "stdout",
     "output_type": "stream",
     "text": [
      "   product_id product_name     category   price  stock\n",
      "0           1       Laptop  Electronics  999.99     50\n",
      "1           2   Smartphone  Electronics  699.99    150\n",
      "2           3   Headphones  Accessories  199.99    300\n",
      "3           4      Monitor  Electronics  299.99     75\n",
      "4           5        Mouse  Accessories   49.99    500\n"
     ]
    }
   ],
   "source": [
    "import pandas as pd\n",
    "df_products = pd.read_csv('/Users/praveen/Desktop/products.csv')\n",
    "print(df_products.head())"
   ]
  },
  {
   "cell_type": "markdown",
   "id": "65e4103c",
   "metadata": {},
   "source": [
    "# Extracting JSON Data"
   ]
  },
  {
   "cell_type": "code",
   "execution_count": 5,
   "id": "5222ea6d",
   "metadata": {},
   "outputs": [
    {
     "name": "stdout",
     "output_type": "stream",
     "text": [
      "  product_id product_name     category   price  stock\n",
      "0          1       Laptop  Electronics  999.99     50\n",
      "1          2   Smartphone  Electronics  699.99    150\n",
      "2          3   Headphones  Accessories  199.99    300\n"
     ]
    }
   ],
   "source": [
    "import json\n",
    "with open('/Users/praveen/Desktop/products.json') as f:\n",
    "    data = json.load(f)\n",
    "df_customers = pd.json_normalize(data)\n",
    "print(df_customers.head())"
   ]
  },
  {
   "cell_type": "markdown",
   "id": "244fd740",
   "metadata": {},
   "source": [
    "# Extracting Data from API"
   ]
  },
  {
   "cell_type": "code",
   "execution_count": 7,
   "id": "ee487328",
   "metadata": {},
   "outputs": [
    {
     "name": "stdout",
     "output_type": "stream",
     "text": [
      "   id                          title  \\\n",
      "0   1  Essence Mascara Lash Princess   \n",
      "1   2  Eyeshadow Palette with Mirror   \n",
      "2   3                Powder Canister   \n",
      "3   4                   Red Lipstick   \n",
      "4   5                Red Nail Polish   \n",
      "\n",
      "                                         description category  price  \\\n",
      "0  The Essence Mascara Lash Princess is a popular...   beauty   9.99   \n",
      "1  The Eyeshadow Palette with Mirror offers a ver...   beauty  19.99   \n",
      "2  The Powder Canister is a finely milled setting...   beauty  14.99   \n",
      "3  The Red Lipstick is a classic and bold choice ...   beauty  12.99   \n",
      "4  The Red Nail Polish offers a rich and glossy r...   beauty   8.99   \n",
      "\n",
      "   discountPercentage  rating  stock                   tags           brand  \\\n",
      "0                7.17    4.94      5      [beauty, mascara]         Essence   \n",
      "1                5.50    3.28     44    [beauty, eyeshadow]  Glamour Beauty   \n",
      "2               18.14    3.82     59  [beauty, face powder]    Velvet Touch   \n",
      "3               19.03    2.51     68     [beauty, lipstick]  Chic Cosmetics   \n",
      "4                2.46    3.91     71  [beauty, nail polish]    Nail Couture   \n",
      "\n",
      "   ...                                         dimensions  \\\n",
      "0  ...  {'width': 23.17, 'height': 14.43, 'depth': 28.01}   \n",
      "1  ...   {'width': 12.42, 'height': 8.63, 'depth': 29.13}   \n",
      "2  ...   {'width': 24.16, 'height': 10.7, 'depth': 11.07}   \n",
      "3  ...   {'width': 14.37, 'height': 13.94, 'depth': 14.6}   \n",
      "4  ...   {'width': 8.11, 'height': 10.89, 'depth': 29.06}   \n",
      "\n",
      "   warrantyInformation         shippingInformation availabilityStatus  \\\n",
      "0     1 month warranty            Ships in 1 month          Low Stock   \n",
      "1      1 year warranty            Ships in 2 weeks           In Stock   \n",
      "2      2 year warranty  Ships in 1-2 business days           In Stock   \n",
      "3    Lifetime warranty            Ships in 2 weeks           In Stock   \n",
      "4      1 year warranty             Ships in 1 week           In Stock   \n",
      "\n",
      "                                             reviews           returnPolicy  \\\n",
      "0  [{'rating': 2, 'comment': 'Very unhappy with m...  30 days return policy   \n",
      "1  [{'rating': 4, 'comment': 'Very satisfied!', '...  30 days return policy   \n",
      "2  [{'rating': 5, 'comment': 'Very happy with my ...  60 days return policy   \n",
      "3  [{'rating': 5, 'comment': 'Great product!', 'd...  90 days return policy   \n",
      "4  [{'rating': 5, 'comment': 'Very pleased!', 'da...       No return policy   \n",
      "\n",
      "  minimumOrderQuantity                                               meta  \\\n",
      "0                   24  {'createdAt': '2024-05-23T08:56:21.618Z', 'upd...   \n",
      "1                   32  {'createdAt': '2024-05-23T08:56:21.618Z', 'upd...   \n",
      "2                   25  {'createdAt': '2024-05-23T08:56:21.618Z', 'upd...   \n",
      "3                    6  {'createdAt': '2024-05-23T08:56:21.619Z', 'upd...   \n",
      "4                   46  {'createdAt': '2024-05-23T08:56:21.619Z', 'upd...   \n",
      "\n",
      "                                              images  \\\n",
      "0  [https://cdn.dummyjson.com/products/images/bea...   \n",
      "1  [https://cdn.dummyjson.com/products/images/bea...   \n",
      "2  [https://cdn.dummyjson.com/products/images/bea...   \n",
      "3  [https://cdn.dummyjson.com/products/images/bea...   \n",
      "4  [https://cdn.dummyjson.com/products/images/bea...   \n",
      "\n",
      "                                           thumbnail  \n",
      "0  https://cdn.dummyjson.com/products/images/beau...  \n",
      "1  https://cdn.dummyjson.com/products/images/beau...  \n",
      "2  https://cdn.dummyjson.com/products/images/beau...  \n",
      "3  https://cdn.dummyjson.com/products/images/beau...  \n",
      "4  https://cdn.dummyjson.com/products/images/beau...  \n",
      "\n",
      "[5 rows x 22 columns]\n"
     ]
    }
   ],
   "source": [
    "response = requests.get('https://dummyjson.com/products')\n",
    "df_transactions = pd.DataFrame(response.json()['products'])\n",
    "print(df_transactions.head())"
   ]
  },
  {
   "cell_type": "code",
   "execution_count": 11,
   "id": "95edce76",
   "metadata": {},
   "outputs": [
    {
     "name": "stdout",
     "output_type": "stream",
     "text": [
      "root\n",
      " |-- id: integer (nullable = true)\n",
      " |-- title: string (nullable = true)\n",
      " |-- description: string (nullable = true)\n",
      " |-- category: string (nullable = true)\n",
      " |-- price: double (nullable = true)\n",
      " |-- discountPercentage: double (nullable = true)\n",
      " |-- rating: double (nullable = true)\n",
      " |-- stock: integer (nullable = true)\n",
      " |-- tags: string (nullable = true)\n",
      " |-- brand: string (nullable = true)\n",
      " |-- sku: string (nullable = true)\n",
      " |-- weight: integer (nullable = true)\n",
      " |-- dimensions: string (nullable = true)\n",
      " |-- warrantyInformation: string (nullable = true)\n",
      " |-- shippingInformation: string (nullable = true)\n",
      " |-- availabilityStatus: string (nullable = true)\n",
      " |-- reviews: string (nullable = true)\n",
      " |-- returnPolicy: string (nullable = true)\n",
      " |-- minimumOrderQuantity: integer (nullable = true)\n",
      " |-- meta: string (nullable = true)\n",
      " |-- images: string (nullable = true)\n",
      " |-- thumbnail: string (nullable = true)\n",
      "\n",
      "+---+--------------------+--------------------+--------+-----+------------------+------+-----+--------------------+--------------+--------+------+--------------------+-------------------+--------------------+------------------+--------------------+--------------------+--------------------+--------------------+--------------------+--------------------+\n",
      "| id|               title|         description|category|price|discountPercentage|rating|stock|                tags|         brand|     sku|weight|          dimensions|warrantyInformation| shippingInformation|availabilityStatus|             reviews|        returnPolicy|minimumOrderQuantity|                meta|              images|           thumbnail|\n",
      "+---+--------------------+--------------------+--------+-----+------------------+------+-----+--------------------+--------------+--------+------+--------------------+-------------------+--------------------+------------------+--------------------+--------------------+--------------------+--------------------+--------------------+--------------------+\n",
      "|  1|Essence Mascara L...|The Essence Masca...|  beauty| 9.99|              7.17|  4.94|    5|['beauty', 'masca...|       Essence|RCH45Q1A|     2|{'width': 23.17, ...|   1 month warranty|    Ships in 1 month|         Low Stock|[{'rating': 2, 'c...|30 days return po...|                  24|{'createdAt': '20...|['https://cdn.dum...|https://cdn.dummy...|\n",
      "|  2|Eyeshadow Palette...|The Eyeshadow Pal...|  beauty|19.99|               5.5|  3.28|   44|['beauty', 'eyesh...|Glamour Beauty|MVCFH27F|     3|{'width': 12.42, ...|    1 year warranty|    Ships in 2 weeks|          In Stock|[{'rating': 4, 'c...|30 days return po...|                  32|{'createdAt': '20...|['https://cdn.dum...|https://cdn.dummy...|\n",
      "|  3|     Powder Canister|The Powder Canist...|  beauty|14.99|             18.14|  3.82|   59|['beauty', 'face ...|  Velvet Touch|9EN8WLT2|     8|{'width': 24.16, ...|    2 year warranty|Ships in 1-2 busi...|          In Stock|[{'rating': 5, 'c...|60 days return po...|                  25|{'createdAt': '20...|['https://cdn.dum...|https://cdn.dummy...|\n",
      "|  4|        Red Lipstick|The Red Lipstick ...|  beauty|12.99|             19.03|  2.51|   68|['beauty', 'lipst...|Chic Cosmetics|O5IF1NTA|     5|{'width': 14.37, ...|  Lifetime warranty|    Ships in 2 weeks|          In Stock|[{'rating': 5, 'c...|90 days return po...|                   6|{'createdAt': '20...|['https://cdn.dum...|https://cdn.dummy...|\n",
      "|  5|     Red Nail Polish|The Red Nail Poli...|  beauty| 8.99|              2.46|  3.91|   71|['beauty', 'nail ...|  Nail Couture|YUIIIP4W|     9|{'width': 8.11, '...|    1 year warranty|     Ships in 1 week|          In Stock|[{'rating': 5, 'c...|    No return policy|                  46|{'createdAt': '20...|['https://cdn.dum...|https://cdn.dummy...|\n",
      "+---+--------------------+--------------------+--------+-----+------------------+------+-----+--------------------+--------------+--------+------+--------------------+-------------------+--------------------+------------------+--------------------+--------------------+--------------------+--------------------+--------------------+--------------------+\n",
      "only showing top 5 rows\n",
      "\n"
     ]
    }
   ],
   "source": [
    "df_transactions_spark.printSchema()\n",
    "df_transactions_spark.show(5)"
   ]
  },
  {
   "cell_type": "markdown",
   "id": "04afc0cb",
   "metadata": {},
   "source": [
    "# Data Transformation with PySpark"
   ]
  },
  {
   "cell_type": "code",
   "execution_count": 13,
   "id": "bf2ad92d",
   "metadata": {},
   "outputs": [
    {
     "name": "stdout",
     "output_type": "stream",
     "text": [
      "+----------+------------+-----------+------+-----+\n",
      "|product_id|product_name|   category| price|stock|\n",
      "+----------+------------+-----------+------+-----+\n",
      "|         1|      Laptop|Electronics|999.99|   50|\n",
      "|         2|  Smartphone|Electronics|699.99|  150|\n",
      "|         3|  Headphones|Accessories|199.99|  300|\n",
      "|         4|     Monitor|Electronics|299.99|   75|\n",
      "|         5|       Mouse|Accessories| 49.99|  500|\n",
      "+----------+------------+-----------+------+-----+\n",
      "\n",
      "+-----------+------------------+\n",
      "|   category|         avg_price|\n",
      "+-----------+------------------+\n",
      "|Electronics| 666.6566666666666|\n",
      "|Accessories|124.99000000000001|\n",
      "+-----------+------------------+\n",
      "\n",
      "+----------+------------+-----------+------+-----+\n",
      "|product_id|product_name|   category| price|stock|\n",
      "+----------+------------+-----------+------+-----+\n",
      "|         2|  Smartphone|Electronics|699.99|  150|\n",
      "|         3|  Headphones|Accessories|199.99|  300|\n",
      "|         5|       Mouse|Accessories| 49.99|  500|\n",
      "+----------+------------+-----------+------+-----+\n",
      "\n"
     ]
    }
   ],
   "source": [
    "from pyspark.sql import SparkSession\n",
    "from pyspark.sql.functions import col, avg\n",
    "spark = SparkSession.builder.appName('ProductDataTransformation').getOrCreate()\n",
    "df_filtered = df_products.filter(col('price') > 20)\n",
    "df_filtered.show()\n",
    "df_avg_price = df_products.groupBy('category').agg(avg('price').alias('avg_price'))\n",
    "df_avg_price.show()\n",
    "df_in_stock_high_stock = df_products.filter((col('stock') > 100))\n",
    "df_in_stock_high_stock.show()"
   ]
  },
  {
   "cell_type": "markdown",
   "id": "c696c093",
   "metadata": {},
   "source": [
    "# Calculating the total stock value per category (price * stock)"
   ]
  },
  {
   "cell_type": "code",
   "execution_count": 14,
   "id": "b31cf531",
   "metadata": {},
   "outputs": [
    {
     "name": "stdout",
     "output_type": "stream",
     "text": [
      "+-----------+-----------------+\n",
      "|   category|total_stock_value|\n",
      "+-----------+-----------------+\n",
      "|Electronics|        177497.25|\n",
      "|Accessories|          84992.0|\n",
      "+-----------+-----------------+\n",
      "\n"
     ]
    }
   ],
   "source": [
    "from pyspark.sql.functions import sum\n",
    "df_total_stock_value = df_products.withColumn(\"stock_value\", col(\"price\") * col(\"stock\")) \\\n",
    "    .groupBy(\"category\") \\\n",
    "    .agg(sum(\"stock_value\").alias(\"total_stock_value\"))\n",
    "df_total_stock_value.show()"
   ]
  },
  {
   "cell_type": "code",
   "execution_count": 15,
   "id": "9b4a9d29",
   "metadata": {},
   "outputs": [],
   "source": [
    "df_avg_price.write.csv('path/to/save/avg_price_by_category.csv', header=True)"
   ]
  },
  {
   "cell_type": "code",
   "execution_count": 16,
   "id": "9abd96b3",
   "metadata": {},
   "outputs": [],
   "source": [
    "df_avg_price.write.parquet('path/to/save/avg_price_by_category.parquet')"
   ]
  },
  {
   "cell_type": "markdown",
   "id": "389e6f1f",
   "metadata": {},
   "source": [
    "# Visualizing the average price by category using Matplotlib"
   ]
  },
  {
   "cell_type": "code",
   "execution_count": 17,
   "id": "5c366781",
   "metadata": {},
   "outputs": [
    {
     "data": {
      "image/png": "[encoded data removed]",
      "text/plain": [
       "<Figure size 1000x600 with 1 Axes>"
      ]
     },
     "metadata": {},
     "output_type": "display_data"
    }
   ],
   "source": [
    "import matplotlib.pyplot as plt\n",
    "df_avg_price_pandas = df_avg_price.toPandas()\n",
    "plt.figure(figsize=(10, 6))\n",
    "plt.bar(df_avg_price_pandas['category'], df_avg_price_pandas['avg_price'])\n",
    "plt.xlabel('Category')\n",
    "plt.ylabel('Average Price')\n",
    "plt.title('Average Price by Category')\n",
    "plt.show()"
   ]
  },
  {
   "cell_type": "code",
   "execution_count": null,
   "id": "e06b4d3c",
   "metadata": {},
   "outputs": [],
   "source": []
  }
 ],
 "metadata": {
  "kernelspec": {
   "display_name": "Python 3 (ipykernel)",
   "language": "python",
   "name": "python3"
  },
  "language_info": {
   "codemirror_mode": {
    "name": "ipython",
    "version": 3
   },
   "file_extension": ".py",
   "mimetype": "text/x-python",
   "name": "python",
   "nbconvert_exporter": "python",
   "pygments_lexer": "ipython3",
   "version": "3.11.4"
  }
 },
 "nbformat": 4,
 "nbformat_minor": 5
}
